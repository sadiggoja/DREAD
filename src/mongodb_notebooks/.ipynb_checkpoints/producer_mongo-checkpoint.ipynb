{
 "cells": [
  {
   "cell_type": "code",
   "execution_count": 1,
   "id": "b641728f",
   "metadata": {},
   "outputs": [],
   "source": [
    "from confluent_kafka import Producer\n",
    "import csv\n",
    "\n",
    "# Define the Kafka broker and topic\n",
    "broker = 'localhost:9093' \n",
    "topic = 'topic_mongodb'  # Change to your Kafka topic\n",
    "\n",
    "# Create a Kafka producer instance\n",
    "producer = Producer({'bootstrap.servers': broker})\n",
    "\n",
    "# Define a function to read the CSV file and send its data to Kafka\n",
    "def send_data_to_kafka(file_path):\n",
    "    \n",
    "    with open(file_path, 'r') as csv_file:\n",
    "        #i=0\n",
    "        csv_reader = csv.DictReader(csv_file)\n",
    "        for row in csv_reader:\n",
    "            #i+=1\n",
    "            # Convert the CSV row to a message that can be sent to Kafka\n",
    "            message_value = ','.join([f\"{key}:{value}\" for key, value in row.items()])\n",
    "            producer.produce(topic=topic, value=message_value, key=row['Datetime'])\n",
    "            #if i == 40:\n",
    "                #break\n",
    "\n",
    "    producer.flush()\n",
    "\n",
    "# Specify the path to your CSV file\n",
    "csv_file_path = '/home/jbara/Desktop/ost_project/final/powerconsumption.csv' \n",
    "\n",
    "send_data_to_kafka(csv_file_path)"
   ]
  },
  {
   "cell_type": "code",
   "execution_count": null,
   "id": "45dad297",
   "metadata": {},
   "outputs": [],
   "source": []
  }
 ],
 "metadata": {
  "kernelspec": {
   "display_name": "Python 3 (ipykernel)",
   "language": "python",
   "name": "python3"
  },
  "language_info": {
   "codemirror_mode": {
    "name": "ipython",
    "version": 3
   },
   "file_extension": ".py",
   "mimetype": "text/x-python",
   "name": "python",
   "nbconvert_exporter": "python",
   "pygments_lexer": "ipython3",
   "version": "3.9.13"
  }
 },
 "nbformat": 4,
 "nbformat_minor": 5
}
